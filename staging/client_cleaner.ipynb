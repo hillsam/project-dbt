{
 "metadata": {
  "language_info": {
   "codemirror_mode": {
    "name": "ipython",
    "version": 3
   },
   "file_extension": ".py",
   "mimetype": "text/x-python",
   "name": "python",
   "nbconvert_exporter": "python",
   "pygments_lexer": "ipython3",
   "version": "3.8.5"
  },
  "orig_nbformat": 4,
  "kernelspec": {
   "name": "python3",
   "display_name": "Python 3.8.5 64-bit ('base': conda)"
  },
  "interpreter": {
   "hash": "35dc5071da3a3b95dd6e3e41fd1469d6793c8ae78def0e601bce7ba46a2dda64"
  }
 },
 "nbformat": 4,
 "nbformat_minor": 2,
 "cells": [
  {
   "cell_type": "code",
   "execution_count": 1,
   "metadata": {},
   "outputs": [],
   "source": [
    "import pandas as pd\n",
    "import datetime as dt\n",
    "import os as os\n",
    "import xlrd"
   ]
  },
  {
   "cell_type": "code",
   "execution_count": 2,
   "metadata": {},
   "outputs": [
    {
     "output_type": "execute_result",
     "data": {
      "text/plain": [
       "'/Users/samuelhill/client/data'"
      ]
     },
     "metadata": {},
     "execution_count": 2
    }
   ],
   "source": [
    "os.chdir('/Users/samuelhill/client/data/')\n",
    "os.getcwd()"
   ]
  },
  {
   "cell_type": "code",
   "execution_count": 10,
   "metadata": {},
   "outputs": [],
   "source": [
    "pay = pd.read_csv('Payslips.csv')\n",
    "dis = pd.read_csv('Disbursements.csv')"
   ]
  },
  {
   "cell_type": "code",
   "execution_count": 11,
   "metadata": {},
   "outputs": [
    {
     "output_type": "error",
     "ename": "KeyError",
     "evalue": "'end'",
     "traceback": [
      "\u001b[0;31m---------------------------------------------------------------------------\u001b[0m",
      "\u001b[0;31mKeyError\u001b[0m                                  Traceback (most recent call last)",
      "\u001b[0;32m~/opt/anaconda3/lib/python3.8/site-packages/pandas/core/indexes/base.py\u001b[0m in \u001b[0;36mget_loc\u001b[0;34m(self, key, method, tolerance)\u001b[0m\n\u001b[1;32m   3079\u001b[0m             \u001b[0;32mtry\u001b[0m\u001b[0;34m:\u001b[0m\u001b[0;34m\u001b[0m\u001b[0;34m\u001b[0m\u001b[0m\n\u001b[0;32m-> 3080\u001b[0;31m                 \u001b[0;32mreturn\u001b[0m \u001b[0mself\u001b[0m\u001b[0;34m.\u001b[0m\u001b[0m_engine\u001b[0m\u001b[0;34m.\u001b[0m\u001b[0mget_loc\u001b[0m\u001b[0;34m(\u001b[0m\u001b[0mcasted_key\u001b[0m\u001b[0;34m)\u001b[0m\u001b[0;34m\u001b[0m\u001b[0;34m\u001b[0m\u001b[0m\n\u001b[0m\u001b[1;32m   3081\u001b[0m             \u001b[0;32mexcept\u001b[0m \u001b[0mKeyError\u001b[0m \u001b[0;32mas\u001b[0m \u001b[0merr\u001b[0m\u001b[0;34m:\u001b[0m\u001b[0;34m\u001b[0m\u001b[0;34m\u001b[0m\u001b[0m\n",
      "\u001b[0;32mpandas/_libs/index.pyx\u001b[0m in \u001b[0;36mpandas._libs.index.IndexEngine.get_loc\u001b[0;34m()\u001b[0m\n",
      "\u001b[0;32mpandas/_libs/index.pyx\u001b[0m in \u001b[0;36mpandas._libs.index.IndexEngine.get_loc\u001b[0;34m()\u001b[0m\n",
      "\u001b[0;32mpandas/_libs/hashtable_class_helper.pxi\u001b[0m in \u001b[0;36mpandas._libs.hashtable.PyObjectHashTable.get_item\u001b[0;34m()\u001b[0m\n",
      "\u001b[0;32mpandas/_libs/hashtable_class_helper.pxi\u001b[0m in \u001b[0;36mpandas._libs.hashtable.PyObjectHashTable.get_item\u001b[0;34m()\u001b[0m\n",
      "\u001b[0;31mKeyError\u001b[0m: 'end'",
      "\nThe above exception was the direct cause of the following exception:\n",
      "\u001b[0;31mKeyError\u001b[0m                                  Traceback (most recent call last)",
      "\u001b[0;32m<ipython-input-11-97c041fd0480>\u001b[0m in \u001b[0;36m<module>\u001b[0;34m\u001b[0m\n\u001b[0;32m----> 1\u001b[0;31m pay['date'] = pd.to_datetime(pay['end'].apply(\n\u001b[0m\u001b[1;32m      2\u001b[0m     lambda date: xlrd.xldate_as_datetime(date, 0)))\n\u001b[1;32m      3\u001b[0m \u001b[0mpay\u001b[0m\u001b[0;34m[\u001b[0m\u001b[0;34m'date'\u001b[0m\u001b[0;34m]\u001b[0m \u001b[0;34m=\u001b[0m \u001b[0mpd\u001b[0m\u001b[0;34m.\u001b[0m\u001b[0mPeriodIndex\u001b[0m\u001b[0;34m(\u001b[0m\u001b[0mpay\u001b[0m\u001b[0;34m[\u001b[0m\u001b[0;34m'date'\u001b[0m\u001b[0;34m]\u001b[0m\u001b[0;34m,\u001b[0m \u001b[0mfreq\u001b[0m\u001b[0;34m=\u001b[0m\u001b[0;34m'Q'\u001b[0m\u001b[0;34m)\u001b[0m\u001b[0;34m\u001b[0m\u001b[0;34m\u001b[0m\u001b[0m\n",
      "\u001b[0;32m~/opt/anaconda3/lib/python3.8/site-packages/pandas/core/frame.py\u001b[0m in \u001b[0;36m__getitem__\u001b[0;34m(self, key)\u001b[0m\n\u001b[1;32m   3022\u001b[0m             \u001b[0;32mif\u001b[0m \u001b[0mself\u001b[0m\u001b[0;34m.\u001b[0m\u001b[0mcolumns\u001b[0m\u001b[0;34m.\u001b[0m\u001b[0mnlevels\u001b[0m \u001b[0;34m>\u001b[0m \u001b[0;36m1\u001b[0m\u001b[0;34m:\u001b[0m\u001b[0;34m\u001b[0m\u001b[0;34m\u001b[0m\u001b[0m\n\u001b[1;32m   3023\u001b[0m                 \u001b[0;32mreturn\u001b[0m \u001b[0mself\u001b[0m\u001b[0;34m.\u001b[0m\u001b[0m_getitem_multilevel\u001b[0m\u001b[0;34m(\u001b[0m\u001b[0mkey\u001b[0m\u001b[0;34m)\u001b[0m\u001b[0;34m\u001b[0m\u001b[0;34m\u001b[0m\u001b[0m\n\u001b[0;32m-> 3024\u001b[0;31m             \u001b[0mindexer\u001b[0m \u001b[0;34m=\u001b[0m \u001b[0mself\u001b[0m\u001b[0;34m.\u001b[0m\u001b[0mcolumns\u001b[0m\u001b[0;34m.\u001b[0m\u001b[0mget_loc\u001b[0m\u001b[0;34m(\u001b[0m\u001b[0mkey\u001b[0m\u001b[0;34m)\u001b[0m\u001b[0;34m\u001b[0m\u001b[0;34m\u001b[0m\u001b[0m\n\u001b[0m\u001b[1;32m   3025\u001b[0m             \u001b[0;32mif\u001b[0m \u001b[0mis_integer\u001b[0m\u001b[0;34m(\u001b[0m\u001b[0mindexer\u001b[0m\u001b[0;34m)\u001b[0m\u001b[0;34m:\u001b[0m\u001b[0;34m\u001b[0m\u001b[0;34m\u001b[0m\u001b[0m\n\u001b[1;32m   3026\u001b[0m                 \u001b[0mindexer\u001b[0m \u001b[0;34m=\u001b[0m \u001b[0;34m[\u001b[0m\u001b[0mindexer\u001b[0m\u001b[0;34m]\u001b[0m\u001b[0;34m\u001b[0m\u001b[0;34m\u001b[0m\u001b[0m\n",
      "\u001b[0;32m~/opt/anaconda3/lib/python3.8/site-packages/pandas/core/indexes/base.py\u001b[0m in \u001b[0;36mget_loc\u001b[0;34m(self, key, method, tolerance)\u001b[0m\n\u001b[1;32m   3080\u001b[0m                 \u001b[0;32mreturn\u001b[0m \u001b[0mself\u001b[0m\u001b[0;34m.\u001b[0m\u001b[0m_engine\u001b[0m\u001b[0;34m.\u001b[0m\u001b[0mget_loc\u001b[0m\u001b[0;34m(\u001b[0m\u001b[0mcasted_key\u001b[0m\u001b[0;34m)\u001b[0m\u001b[0;34m\u001b[0m\u001b[0;34m\u001b[0m\u001b[0m\n\u001b[1;32m   3081\u001b[0m             \u001b[0;32mexcept\u001b[0m \u001b[0mKeyError\u001b[0m \u001b[0;32mas\u001b[0m \u001b[0merr\u001b[0m\u001b[0;34m:\u001b[0m\u001b[0;34m\u001b[0m\u001b[0;34m\u001b[0m\u001b[0m\n\u001b[0;32m-> 3082\u001b[0;31m                 \u001b[0;32mraise\u001b[0m \u001b[0mKeyError\u001b[0m\u001b[0;34m(\u001b[0m\u001b[0mkey\u001b[0m\u001b[0;34m)\u001b[0m \u001b[0;32mfrom\u001b[0m \u001b[0merr\u001b[0m\u001b[0;34m\u001b[0m\u001b[0;34m\u001b[0m\u001b[0m\n\u001b[0m\u001b[1;32m   3083\u001b[0m \u001b[0;34m\u001b[0m\u001b[0m\n\u001b[1;32m   3084\u001b[0m         \u001b[0;32mif\u001b[0m \u001b[0mtolerance\u001b[0m \u001b[0;32mis\u001b[0m \u001b[0;32mnot\u001b[0m \u001b[0;32mNone\u001b[0m\u001b[0;34m:\u001b[0m\u001b[0;34m\u001b[0m\u001b[0;34m\u001b[0m\u001b[0m\n",
      "\u001b[0;31mKeyError\u001b[0m: 'end'"
     ]
    }
   ],
   "source": [
    "pay['date'] = pd.to_datetime(pay['end'].apply(\n",
    "    lambda date: xlrd.xldate_as_datetime(date, 0)))"
   ]
  },
  {
   "cell_type": "code",
   "execution_count": 12,
   "metadata": {},
   "outputs": [],
   "source": [
    "pay['date'] = pd.PeriodIndex(pay['date'], freq='Q')"
   ]
  },
  {
   "cell_type": "code",
   "execution_count": 63,
   "metadata": {},
   "outputs": [],
   "source": [
    "pay = pay.drop(['end'], 1)"
   ]
  },
  {
   "cell_type": "code",
   "execution_count": 13,
   "metadata": {},
   "outputs": [
    {
     "output_type": "execute_result",
     "data": {
      "text/plain": [
       "   Unnamed: 0                            payslip_id  employee_code  \\\n",
       "0           0  10d3e5e3-2556-4f56-8053-6b1f39975ea1           1155   \n",
       "1           1  10d3e5e3-2556-4f56-8053-6b1f39975ea1           1155   \n",
       "2           2  10d3e5e3-2556-4f56-8053-6b1f39975ea1           1155   \n",
       "3           3  10d3e5e3-2556-4f56-8053-6b1f39975ea1           1155   \n",
       "4           4  3ff7c572-49f1-4a43-abb4-b09142b26540           1963   \n",
       "\n",
       "                                            code    amount    date  \n",
       "0                                13 - Public Hol    401.92  2018Q1  \n",
       "1  T997 - Term G - Long Service Lve Post 17/8/93  17855.96  2018Q1  \n",
       "2       T998 - Term G - Lve Loading Post 17/8/93    371.38  2018Q1  \n",
       "3        T999 - Term G - Annual Lve Post 17/8/93   2122.18  2018Q1  \n",
       "4                                     1 - Normal   1733.80  2018Q1  "
      ],
      "text/html": "<div>\n<style scoped>\n    .dataframe tbody tr th:only-of-type {\n        vertical-align: middle;\n    }\n\n    .dataframe tbody tr th {\n        vertical-align: top;\n    }\n\n    .dataframe thead th {\n        text-align: right;\n    }\n</style>\n<table border=\"1\" class=\"dataframe\">\n  <thead>\n    <tr style=\"text-align: right;\">\n      <th></th>\n      <th>Unnamed: 0</th>\n      <th>payslip_id</th>\n      <th>employee_code</th>\n      <th>code</th>\n      <th>amount</th>\n      <th>date</th>\n    </tr>\n  </thead>\n  <tbody>\n    <tr>\n      <th>0</th>\n      <td>0</td>\n      <td>10d3e5e3-2556-4f56-8053-6b1f39975ea1</td>\n      <td>1155</td>\n      <td>13 - Public Hol</td>\n      <td>401.92</td>\n      <td>2018Q1</td>\n    </tr>\n    <tr>\n      <th>1</th>\n      <td>1</td>\n      <td>10d3e5e3-2556-4f56-8053-6b1f39975ea1</td>\n      <td>1155</td>\n      <td>T997 - Term G - Long Service Lve Post 17/8/93</td>\n      <td>17855.96</td>\n      <td>2018Q1</td>\n    </tr>\n    <tr>\n      <th>2</th>\n      <td>2</td>\n      <td>10d3e5e3-2556-4f56-8053-6b1f39975ea1</td>\n      <td>1155</td>\n      <td>T998 - Term G - Lve Loading Post 17/8/93</td>\n      <td>371.38</td>\n      <td>2018Q1</td>\n    </tr>\n    <tr>\n      <th>3</th>\n      <td>3</td>\n      <td>10d3e5e3-2556-4f56-8053-6b1f39975ea1</td>\n      <td>1155</td>\n      <td>T999 - Term G - Annual Lve Post 17/8/93</td>\n      <td>2122.18</td>\n      <td>2018Q1</td>\n    </tr>\n    <tr>\n      <th>4</th>\n      <td>4</td>\n      <td>3ff7c572-49f1-4a43-abb4-b09142b26540</td>\n      <td>1963</td>\n      <td>1 - Normal</td>\n      <td>1733.80</td>\n      <td>2018Q1</td>\n    </tr>\n  </tbody>\n</table>\n</div>"
     },
     "metadata": {},
     "execution_count": 13
    }
   ],
   "source": [
    "pay.head()"
   ]
  },
  {
   "cell_type": "code",
   "execution_count": 14,
   "metadata": {},
   "outputs": [],
   "source": [
    "pay.to_csv('Payslips.csv', encoding='utf-8')"
   ]
  },
  {
   "cell_type": "code",
   "execution_count": 6,
   "metadata": {},
   "outputs": [
    {
     "output_type": "execute_result",
     "data": {
      "text/plain": [
       "   sgc_amount         payment_made      pay_period_from        pay_period_to  \\\n",
       "0      763.66  2017-11-01T00:00:00  2017-09-25T00:00:00  2017-10-22T00:00:00   \n",
       "1     1110.76  2017-08-09T00:00:00  2017-06-19T00:00:00  2017-07-30T00:00:00   \n",
       "2      763.66  2017-10-04T00:00:00  2017-08-28T00:00:00  2017-09-24T00:00:00   \n",
       "3      763.66  2017-11-30T00:00:00  2017-10-23T00:00:00  2017-11-19T00:00:00   \n",
       "4      763.66  2017-09-06T00:00:00  2017-07-31T00:00:00  2017-08-27T00:00:00   \n",
       "\n",
       "   employee_code  \n",
       "0           1155  \n",
       "1           1155  \n",
       "2           1155  \n",
       "3           1155  \n",
       "4           1155  "
      ],
      "text/html": "<div>\n<style scoped>\n    .dataframe tbody tr th:only-of-type {\n        vertical-align: middle;\n    }\n\n    .dataframe tbody tr th {\n        vertical-align: top;\n    }\n\n    .dataframe thead th {\n        text-align: right;\n    }\n</style>\n<table border=\"1\" class=\"dataframe\">\n  <thead>\n    <tr style=\"text-align: right;\">\n      <th></th>\n      <th>sgc_amount</th>\n      <th>payment_made</th>\n      <th>pay_period_from</th>\n      <th>pay_period_to</th>\n      <th>employee_code</th>\n    </tr>\n  </thead>\n  <tbody>\n    <tr>\n      <th>0</th>\n      <td>763.66</td>\n      <td>2017-11-01T00:00:00</td>\n      <td>2017-09-25T00:00:00</td>\n      <td>2017-10-22T00:00:00</td>\n      <td>1155</td>\n    </tr>\n    <tr>\n      <th>1</th>\n      <td>1110.76</td>\n      <td>2017-08-09T00:00:00</td>\n      <td>2017-06-19T00:00:00</td>\n      <td>2017-07-30T00:00:00</td>\n      <td>1155</td>\n    </tr>\n    <tr>\n      <th>2</th>\n      <td>763.66</td>\n      <td>2017-10-04T00:00:00</td>\n      <td>2017-08-28T00:00:00</td>\n      <td>2017-09-24T00:00:00</td>\n      <td>1155</td>\n    </tr>\n    <tr>\n      <th>3</th>\n      <td>763.66</td>\n      <td>2017-11-30T00:00:00</td>\n      <td>2017-10-23T00:00:00</td>\n      <td>2017-11-19T00:00:00</td>\n      <td>1155</td>\n    </tr>\n    <tr>\n      <th>4</th>\n      <td>763.66</td>\n      <td>2017-09-06T00:00:00</td>\n      <td>2017-07-31T00:00:00</td>\n      <td>2017-08-27T00:00:00</td>\n      <td>1155</td>\n    </tr>\n  </tbody>\n</table>\n</div>"
     },
     "metadata": {},
     "execution_count": 6
    }
   ],
   "source": [
    "dis.head()"
   ]
  },
  {
   "cell_type": "code",
   "execution_count": 8,
   "metadata": {},
   "outputs": [
    {
     "output_type": "execute_result",
     "data": {
      "text/plain": [
       "0     2017Q4\n",
       "1     2017Q3\n",
       "2     2017Q3\n",
       "3     2017Q4\n",
       "4     2017Q3\n",
       "       ...  \n",
       "70    2017Q4\n",
       "71    2018Q2\n",
       "72    2017Q3\n",
       "73    2017Q4\n",
       "74    2017Q3\n",
       "Name: date, Length: 75, dtype: period[Q-DEC]"
      ]
     },
     "metadata": {},
     "execution_count": 8
    }
   ],
   "source": [
    "dis['date'] = pd.PeriodIndex(dis['pay_period_to'], freq='Q')\n",
    "dis['date']"
   ]
  },
  {
   "cell_type": "code",
   "execution_count": 9,
   "metadata": {},
   "outputs": [],
   "source": [
    "dis.to_csv('Disbursements.csv', encoding='utf-8')"
   ]
  },
  {
   "cell_type": "code",
   "execution_count": null,
   "metadata": {},
   "outputs": [],
   "source": []
  }
 ]
}